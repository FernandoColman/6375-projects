{
  "cells": [
    {
      "cell_type": "markdown",
      "metadata": {
        "id": "view-in-github",
        "colab_type": "text"
      },
      "source": [
        "<a href=\"https://colab.research.google.com/github/FernandoColman/6375-projects/blob/main/NN_Knn_SVMs.ipynb\" target=\"_parent\"><img src=\"https://colab.research.google.com/assets/colab-badge.svg\" alt=\"Open In Colab\"/></a>"
      ]
    },
    {
      "cell_type": "code",
      "execution_count": null,
      "metadata": {
        "colab": {
          "background_save": true,
          "base_uri": "https://localhost:8080/"
        },
        "id": "v8xI_Szp1Tsd",
        "outputId": "1e06a526-cafc-4b97-cd5d-9b8dea66100c"
      },
      "outputs": [
        {
          "name": "stderr",
          "output_type": "stream",
          "text": [
            "/usr/local/lib/python3.8/dist-packages/sklearn/datasets/_openml.py:932: FutureWarning: The default value of `parser` will change from `'liac-arff'` to `'auto'` in 1.4. You can set `parser='auto'` to silence this warning. Therefore, an `ImportError` will be raised from 1.4 if the dataset is dense and pandas is not installed. Note that the pandas parser may return different data types. See the Notes Section in fetch_openml's API doc for details.\n",
            "  warn(\n"
          ]
        }
      ],
      "source": [
        "# fetch data\n",
        "from sklearn.datasets import fetch_openml\n",
        "\n",
        "X, y = fetch_openml('mnist_784', version=1, return_X_y=True)"
      ]
    },
    {
      "cell_type": "code",
      "execution_count": 3,
      "metadata": {
        "id": "xBTYYl-2nx78"
      },
      "outputs": [],
      "source": [
        "# Split data into train and test\n",
        "X = X / 255\n",
        "X_train, X_test = X[:60000], X[60000:]\n",
        "y_train, y_test = y[:60000], y[60000:]"
      ]
    },
    {
      "cell_type": "code",
      "execution_count": null,
      "metadata": {
        "id": "BxKJBMHpoVs0"
      },
      "outputs": [],
      "source": [
        "# SVM\n",
        "from sklearn import svm\n",
        "\n",
        "lc = svm.SVC(C=0.5, kernel='poly')\n",
        "lc.fit(X_train, y_train)\n",
        "y_pred = lc.predict(X_test)"
      ]
    },
    {
      "cell_type": "markdown",
      "metadata": {
        "id": "tV611j-ksPVB"
      },
      "source": [
        "# Testing Using Different Kernels/Penalization Parameter\n",
        "### Linear \n",
        "> C value: 1.0  \n",
        "> Execution Time: 5m 32s  \n",
        "> Accuracy: 0.9404 \n",
        "\n",
        "> C value: 1.5   \n",
        "> Execution Time: 6m 43s   \n",
        "> Accuracy: 0.9387   \n",
        "\n",
        "> C value: 0.5   \n",
        "> Execution Time: 5ms 24s   \n",
        "> Accuracy: 0.943  \n",
        "\n",
        "### RBF\n",
        "> C value: 1.0  \n",
        "> Execution Time: 6m 27s  \n",
        "> Accuracy: 0.9792\n",
        "\n",
        "> C value: 1.5  \n",
        "> Execution Time: 7m 11s  \n",
        "> Accuracy: 0.9821\n",
        "\n",
        "> C value: 0.5  \n",
        "> Execution Time: 7m 36s   \n",
        "> Accuracy: 0.9759\n",
        "\n",
        "### Polynomial\n",
        "> C value: 1.0  \n",
        "> Execution Time: 6ms 13s  \n",
        "> Accuracy: 0.9771\n",
        "\n",
        "> C value: 1.5  \n",
        "> Execution Time: 3ms 34s   \n",
        "> Accuracy: 0.9778\n",
        "\n",
        "> C value: 0.5  \n",
        "> Execution Time: 4m 47s \n",
        "> Accuracy: 0.9731\n",
        "\n",
        "### Sigmoid\n",
        "> C value: 1.0  \n",
        "> Execution Time: 9m 47s   \n",
        "> Accuracy: 0.7759\n",
        "\n",
        "\n"
      ]
    },
    {
      "cell_type": "code",
      "execution_count": null,
      "metadata": {
        "id": "mfgPG5TQrD_c"
      },
      "outputs": [],
      "source": [
        "# MLP\n",
        "from sklearn.neural_network import MLPClassifier\n",
        "\n",
        "#mlp = MLPClassifier(hidden_layer_sizes=(100),activation=\"relu\",random_state=1).fit(X_train, y_train)\n",
        "mlp = MLPClassifier(hidden_layer_sizes=(256,128,64,32),activation=\"relu\", solver=\"lbfgs\",random_state=1).fit(X_train, y_train)\n",
        "\n",
        "y_pred = mlp.predict(X_test)\n",
        "#print(mlp.score(X_test, y_test))"
      ]
    },
    {
      "cell_type": "markdown",
      "metadata": {
        "id": "_OsEAvpniEld"
      },
      "source": [
        "# Testing Using Different MLP Hyperparameters\n",
        "### RELU \n",
        "> Hidden Layers: (256, 128, 64, 32)   \n",
        "> Execution Time: 1m 59s  \n",
        "> Accuracy: 0.9811 \n",
        "\n",
        "> Hidden Layers: (100)   \n",
        "> Execution Time: 1m 21s  \n",
        "> Accuracy: 0.9791  \n",
        "\n",
        "> <b> Using LBFGS Solver </b>  \n",
        "> Hidden Layers: (256, 128, 64, 32)   \n",
        "> Execution Time: 7m 44s  \n",
        "> Accuracy: 0.9775   \n",
        "\n",
        "> <b> Using SGD Solver </b>  \n",
        "> Hidden Layers: (256, 128, 64, 32)   \n",
        "> Execution Time: 9m 22s  \n",
        "> Accuracy: 0.9764   \n",
        "\n",
        "### Identiy \n",
        "> Hidden Layers: (256, 128, 64, 32)   \n",
        "> Execution Time: 6m 42s  \n",
        "> Accuracy: 0.9234 \n",
        "\n",
        "> Hidden Layers: (100)   \n",
        "> Execution Time: 2m 49s  \n",
        "> Accuracy: 0.925 \n",
        "\n",
        "### Logistic \n",
        "> Hidden Layers: (256, 128, 64, 32)   \n",
        "> Execution Time: 4m 25s  \n",
        "> Accuracy: 0.9785 \n",
        "\n",
        "> Hidden Layers: (100)   \n",
        "> Execution Time: 2m 1s  \n",
        "> Accuracy: 0.9771 \n",
        "\n",
        "### Tanh \n",
        "> Hidden Layers: (256, 128, 64, 32)   \n",
        "> Execution Time: 3m 19s  \n",
        "> Accuracy: 0.9824   \n",
        "\n",
        "> Hidden Layers: (100)   \n",
        "> Execution Time: 1m 42s  \n",
        "> Accuracy: 0.9783 "
      ]
    },
    {
      "cell_type": "code",
      "execution_count": 5,
      "metadata": {
        "id": "pI7EyyY5vWyM",
        "colab": {
          "base_uri": "https://localhost:8080/"
        },
        "outputId": "71e95310-952b-47b8-8b29-b3c64badb704"
      },
      "outputs": [
        {
          "output_type": "stream",
          "name": "stdout",
          "text": [
            "0.9691\n"
          ]
        }
      ],
      "source": [
        "# KNN\n",
        "from sklearn.neighbors import KNeighborsClassifier\n",
        "\n",
        "knn = KNeighborsClassifier(n_neighbors=5, algorithm='brute', weights='distance')\n",
        "knn.fit(X_train, y_train)\n",
        "  \n",
        "\n",
        "y_pred = knn.predict(X_test)\n",
        "print(knn.score(X_test, y_test))"
      ]
    },
    {
      "cell_type": "markdown",
      "metadata": {
        "id": "Ung_87aF0mD4"
      },
      "source": [
        "# Testing Using Different KNN Hyperparameters\n",
        "### Neighbors = 3\n",
        "> Algorithm: Ball Tree     \n",
        "> Execution Time: 17m 45s  \n",
        "> Accuracy: 0.9705\n",
        "\n",
        "> Algorithm: KD Tree     \n",
        "> Execution Time: 20m 51s   \n",
        "> Accuracy: 0.9705\n",
        "\n",
        "> Algorithm: Brute    \n",
        "> Execution Time: 49s   \n",
        "> Accuracy:  0.9705\n",
        "\n",
        "### Neighbors = 5\n",
        "> Algorithm: Ball Tree     \n",
        "> Execution Time: 17m 40s   \n",
        "> Accuracy: 0.9688\n",
        "\n",
        "> Algorithm: KD Tree     \n",
        "> Execution Time: 20m 13s   \n",
        "> Accuracy: 0.9678   \n",
        "\n",
        "> Algorithm: Brute    \n",
        "> Execution Time: 50s   \n",
        "> Accuracy: 0.9829  \n",
        "\n",
        "### Neighbors = 7\n",
        "> Algorithm: Ball Tree     \n",
        "> Execution Time: 18m 32s   \n",
        "> Accuracy: 0.9688\n",
        "\n",
        "> Algorithm: KD Tree     \n",
        "> Execution Time: 22m 14s   \n",
        "> Accuracy: 0.9690   \n",
        "\n",
        "> Algorithm: Brute    \n",
        "> Execution Time: 1m 17s   \n",
        "> Accuracy:  0.9691\n",
        "\n",
        "> Algorithm: Brute   \n",
        "> Weights: Distance  \n",
        "> Execution Time: 1m 18s   \n",
        "> Accuracy: 0.9691"
      ]
    },
    {
      "cell_type": "markdown",
      "source": [
        "# Final Report \n",
        "\n",
        "In terms of error rate, the MLP Classifiers overall had a much better accuracy rate and relatively low execution times compared to the other classifiers. However, the RBF and Polynomial Kernels also performed well except with higher execution times. The very best combination of classifiers and hyperparameters in terms of accuracy was the KNN Classifier with 5 neighbors, the Brute algorithm, an execution time of 50s and an accuracy of 0.9829, however, the othe KNN instances had a really long execution time. "
      ],
      "metadata": {
        "id": "ZGuleeQp2QQr"
      }
    }
  ],
  "metadata": {
    "colab": {
      "provenance": [],
      "authorship_tag": "ABX9TyM52Y9g2j1+zVz9+9R3YTQi",
      "include_colab_link": true
    },
    "kernelspec": {
      "display_name": "Python 3",
      "name": "python3"
    },
    "language_info": {
      "name": "python"
    }
  },
  "nbformat": 4,
  "nbformat_minor": 0
}